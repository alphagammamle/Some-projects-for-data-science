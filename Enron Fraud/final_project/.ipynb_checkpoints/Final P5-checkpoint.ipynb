{
 "cells": [
  {
   "cell_type": "markdown",
   "metadata": {},
   "source": [
    "# Identifying Fraud from Enron Email "
   ]
  },
  {
   "cell_type": "markdown",
   "metadata": {},
   "source": [
    "# 1. Setting Up Environment"
   ]
  },
  {
   "cell_type": "code",
   "execution_count": 1,
   "metadata": {
    "collapsed": false
   },
   "outputs": [
    {
     "name": "stderr",
     "output_type": "stream",
     "text": [
      "C:\\Users\\leland\\Anaconda2\\lib\\site-packages\\sklearn\\cross_validation.py:44: DeprecationWarning: This module was deprecated in version 0.18 in favor of the model_selection module into which all the refactored classes and functions are moved. Also note that the interface of the new CV iterators are different from that of this module. This module will be removed in 0.20.\n",
      "  \"This module will be removed in 0.20.\", DeprecationWarning)\n"
     ]
    }
   ],
   "source": [
    "#!/usr/bin/python\n",
    "import numpy as np\n",
    "import seaborn as sns\n",
    "import matplotlib.pyplot as plt\n",
    "%matplotlib inline\n",
    "\n",
    "from __future__ import division\n",
    "from sklearn.metrics  import confusion_matrix \n",
    "from sklearn.naive_bayes import GaussianNB\n",
    "from sklearn.cross_validation import train_test_split   ##### Change to newer version\n",
    "from sklearn import tree\n",
    "from sklearn.metrics import accuracy_score\n",
    "import sys\n",
    "import pickle\n",
    "import pandas as pd\n",
    "pd.set_option('display.float_format', lambda x: '%.3f' % x)\n",
    "pd.set_option(\"display.precision\", 3)\n",
    "'''\n",
    "pd.set_option('display.max_columns', 30)\n",
    "pd.set_option('display.width', None)\n",
    "pd.set_option('display.max_colwidth', 0)\n",
    "'''\n",
    "sys.path.append(\"../tools/\")\n",
    "from feature_format import featureFormat, targetFeatureSplit\n",
    "from tester import dump_classifier_and_data"
   ]
  },
  {
   "cell_type": "markdown",
   "metadata": {},
   "source": [
    "# 2. Understanding the Dataset\n",
    "\n",
    "## 2.1 Data Exploration\n",
    "\n",
    "\n",
    "### Bckground\n",
    "\n",
    "In 2000, Enron was one of the largest companies in the United States. By 2002, it had collapsed into bankruptcy due to widespread corporate fraud. In the resulting Federal investigation, a significant amount of typically confidential information entered into the public record, including tens of thousands of emails and detailed financial data for top executives. \n",
    "\n",
    "### Data Structure\n",
    "- Financial features: ['salary', 'deferral_payments', 'total_payments', 'loan_advances', 'bonus', 'restricted_stock_deferred', 'deferred_income', 'total_stock_value', 'expenses', 'exercised_stock_options', 'other', 'long_term_incentive', 'restricted_stock', 'director_fees'] (all units are in US dollars)\n",
    "\n",
    "- Email features: ['to_messages', 'email_address', 'from_poi_to_this_person', 'from_messages', 'from_this_person_to_poi', 'shared_receipt_with_poi'] (units are generally number of emails messages; notable exception is ‘email_address’, which is a text string)\n",
    "\n",
    "- POI label: [‘poi’] (boolean, represented as integer)"
   ]
  },
  {
   "cell_type": "code",
   "execution_count": 2,
   "metadata": {
    "collapsed": true
   },
   "outputs": [],
   "source": [
    "### Load the dictionary containing the dataset\n",
    "with open(\"final_project_dataset.pkl\", \"r\") as data_file:\n",
    "    data_dict = pickle.load(data_file)"
   ]
  },
  {
   "cell_type": "code",
   "execution_count": 3,
   "metadata": {
    "collapsed": false
   },
   "outputs": [
    {
     "data": {
      "text/plain": [
       "dict"
      ]
     },
     "execution_count": 3,
     "metadata": {},
     "output_type": "execute_result"
    }
   ],
   "source": [
    "type(data_dict)"
   ]
  },
  {
   "cell_type": "code",
   "execution_count": 4,
   "metadata": {
    "collapsed": false
   },
   "outputs": [
    {
     "data": {
      "text/plain": [
       "146"
      ]
     },
     "execution_count": 4,
     "metadata": {},
     "output_type": "execute_result"
    }
   ],
   "source": [
    "len(data_dict.keys()) # number of observations"
   ]
  },
  {
   "cell_type": "code",
   "execution_count": 5,
   "metadata": {
    "collapsed": false
   },
   "outputs": [
    {
     "data": {
      "text/plain": [
       "['ALLEN PHILLIP K',\n",
       " 'BADUM JAMES P',\n",
       " 'BANNANTINE JAMES M',\n",
       " 'BAXTER JOHN C',\n",
       " 'BAY FRANKLIN R',\n",
       " 'BAZELIDES PHILIP J',\n",
       " 'BECK SALLY W',\n",
       " 'BELDEN TIMOTHY N',\n",
       " 'BELFER ROBERT',\n",
       " 'BERBERIAN DAVID',\n",
       " 'BERGSIEKER RICHARD P',\n",
       " 'BHATNAGAR SANJAY',\n",
       " 'BIBI PHILIPPE A',\n",
       " 'BLACHMAN JEREMY M',\n",
       " 'BLAKE JR. NORMAN P',\n",
       " 'BOWEN JR RAYMOND M',\n",
       " 'BROWN MICHAEL',\n",
       " 'BUCHANAN HAROLD G',\n",
       " 'BUTTS ROBERT H',\n",
       " 'BUY RICHARD B',\n",
       " 'CALGER CHRISTOPHER F',\n",
       " 'CARTER REBECCA C',\n",
       " 'CAUSEY RICHARD A',\n",
       " 'CHAN RONNIE',\n",
       " 'CHRISTODOULOU DIOMEDES',\n",
       " 'CLINE KENNETH W',\n",
       " 'COLWELL WESLEY',\n",
       " 'CORDES WILLIAM R',\n",
       " 'COX DAVID',\n",
       " 'CUMBERLAND MICHAEL S',\n",
       " 'DEFFNER JOSEPH M',\n",
       " 'DELAINEY DAVID W',\n",
       " 'DERRICK JR. JAMES V',\n",
       " 'DETMERING TIMOTHY J',\n",
       " 'DIETRICH JANET R',\n",
       " 'DIMICHELE RICHARD G',\n",
       " 'DODSON KEITH',\n",
       " 'DONAHUE JR JEFFREY M',\n",
       " 'DUNCAN JOHN H',\n",
       " 'DURAN WILLIAM D',\n",
       " 'ECHOLS JOHN B',\n",
       " 'ELLIOTT STEVEN',\n",
       " 'FALLON JAMES B',\n",
       " 'FASTOW ANDREW S',\n",
       " 'FITZGERALD JAY L',\n",
       " 'FOWLER PEGGY',\n",
       " 'FOY JOE',\n",
       " 'FREVERT MARK A',\n",
       " 'FUGH JOHN L',\n",
       " 'GAHN ROBERT S',\n",
       " 'GARLAND C KEVIN',\n",
       " 'GATHMANN WILLIAM D',\n",
       " 'GIBBS DANA R',\n",
       " 'GILLIS JOHN',\n",
       " 'GLISAN JR BEN F',\n",
       " 'GOLD JOSEPH',\n",
       " 'GRAMM WENDY L',\n",
       " 'GRAY RODNEY',\n",
       " 'HAEDICKE MARK E',\n",
       " 'HANNON KEVIN P',\n",
       " 'HAUG DAVID L',\n",
       " 'HAYES ROBERT E',\n",
       " 'HAYSLETT RODERICK J',\n",
       " 'HERMANN ROBERT J',\n",
       " 'HICKERSON GARY J',\n",
       " 'HIRKO JOSEPH',\n",
       " 'HORTON STANLEY C',\n",
       " 'HUGHES JAMES A',\n",
       " 'HUMPHREY GENE E',\n",
       " 'IZZO LAWRENCE L',\n",
       " 'JACKSON CHARLENE R',\n",
       " 'JAEDICKE ROBERT',\n",
       " 'KAMINSKI WINCENTY J',\n",
       " 'KEAN STEVEN J',\n",
       " 'KISHKILL JOSEPH G',\n",
       " 'KITCHEN LOUISE',\n",
       " 'KOENIG MARK E',\n",
       " 'KOPPER MICHAEL J',\n",
       " 'LAVORATO JOHN J',\n",
       " 'LAY KENNETH L',\n",
       " 'LEFF DANIEL P',\n",
       " 'LEMAISTRE CHARLES',\n",
       " 'LEWIS RICHARD',\n",
       " 'LINDHOLM TOD A',\n",
       " 'LOCKHART EUGENE E',\n",
       " 'LOWRY CHARLES P',\n",
       " 'MARTIN AMANDA K',\n",
       " 'MCCARTY DANNY J',\n",
       " 'MCCLELLAN GEORGE',\n",
       " 'MCCONNELL MICHAEL S',\n",
       " 'MCDONALD REBECCA',\n",
       " 'MCMAHON JEFFREY',\n",
       " 'MENDELSOHN JOHN',\n",
       " 'METTS MARK',\n",
       " 'MEYER JEROME J',\n",
       " 'MEYER ROCKFORD G',\n",
       " 'MORAN MICHAEL P',\n",
       " 'MORDAUNT KRISTINA M',\n",
       " 'MULLER MARK S',\n",
       " 'MURRAY JULIA H',\n",
       " 'NOLES JAMES L',\n",
       " 'OLSON CINDY K',\n",
       " 'OVERDYKE JR JERE C',\n",
       " 'PAI LOU L',\n",
       " 'PEREIRA PAULO V. FERRAZ',\n",
       " 'PICKERING MARK R',\n",
       " 'PIPER GREGORY F',\n",
       " 'PIRO JIM',\n",
       " 'POWERS WILLIAM',\n",
       " 'PRENTICE JAMES',\n",
       " 'REDMOND BRIAN L',\n",
       " 'REYNOLDS LAWRENCE',\n",
       " 'RICE KENNETH D',\n",
       " 'RIEKER PAULA H',\n",
       " 'SAVAGE FRANK',\n",
       " 'SCRIMSHAW MATTHEW',\n",
       " 'SHANKMAN JEFFREY A',\n",
       " 'SHAPIRO RICHARD S',\n",
       " 'SHARP VICTORIA T',\n",
       " 'SHELBY REX',\n",
       " 'SHERRICK JEFFREY B',\n",
       " 'SHERRIFF JOHN R',\n",
       " 'SKILLING JEFFREY K',\n",
       " 'STABLER FRANK',\n",
       " 'SULLIVAN-SHAKLOVITZ COLLEEN',\n",
       " 'SUNDE MARTIN',\n",
       " 'TAYLOR MITCHELL S',\n",
       " 'THE TRAVEL AGENCY IN THE PARK',\n",
       " 'THORN TERENCE H',\n",
       " 'TILNEY ELIZABETH A',\n",
       " 'TOTAL',\n",
       " 'UMANOFF ADAM S',\n",
       " 'URQUHART JOHN A',\n",
       " 'WAKEHAM JOHN',\n",
       " 'WALLS JR ROBERT H',\n",
       " 'WALTERS GARETH W',\n",
       " 'WASAFF GEORGE',\n",
       " 'WESTFAHL RICHARD K',\n",
       " 'WHALEY DAVID A',\n",
       " 'WHALLEY LAWRENCE G',\n",
       " 'WHITE JR THOMAS E',\n",
       " 'WINOKUR JR. HERBERT S',\n",
       " 'WODRASKA JOHN',\n",
       " 'WROBEL BRUCE',\n",
       " 'YEAGER F SCOTT',\n",
       " 'YEAP SOON']"
      ]
     },
     "execution_count": 5,
     "metadata": {},
     "output_type": "execute_result"
    }
   ],
   "source": [
    "sorted(data_dict.keys()) # preview keys"
   ]
  },
  {
   "cell_type": "code",
   "execution_count": 8,
   "metadata": {
    "collapsed": false,
    "scrolled": true
   },
   "outputs": [
    {
     "data": {
      "text/plain": [
       "['salary',\n",
       " 'to_messages',\n",
       " 'deferral_payments',\n",
       " 'total_payments',\n",
       " 'exercised_stock_options',\n",
       " 'bonus',\n",
       " 'restricted_stock',\n",
       " 'shared_receipt_with_poi',\n",
       " 'restricted_stock_deferred',\n",
       " 'total_stock_value',\n",
       " 'expenses',\n",
       " 'loan_advances',\n",
       " 'from_messages',\n",
       " 'other',\n",
       " 'from_this_person_to_poi',\n",
       " 'poi',\n",
       " 'director_fees',\n",
       " 'deferred_income',\n",
       " 'long_term_incentive',\n",
       " 'email_address',\n",
       " 'from_poi_to_this_person']"
      ]
     },
     "execution_count": 8,
     "metadata": {},
     "output_type": "execute_result"
    }
   ],
   "source": [
    "data_dict['METTS MARK'].keys()  # features"
   ]
  },
  {
   "cell_type": "code",
   "execution_count": 9,
   "metadata": {
    "collapsed": false
   },
   "outputs": [
    {
     "name": "stdout",
     "output_type": "stream",
     "text": [
      "HANNON KEVIN P\n",
      "COLWELL WESLEY\n",
      "RIEKER PAULA H\n",
      "KOPPER MICHAEL J\n",
      "SHELBY REX\n",
      "DELAINEY DAVID W\n",
      "LAY KENNETH L\n",
      "BOWEN JR RAYMOND M\n",
      "BELDEN TIMOTHY N\n",
      "FASTOW ANDREW S\n",
      "CALGER CHRISTOPHER F\n",
      "RICE KENNETH D\n",
      "SKILLING JEFFREY K\n",
      "YEAGER F SCOTT\n",
      "HIRKO JOSEPH\n",
      "KOENIG MARK E\n",
      "CAUSEY RICHARD A\n",
      "GLISAN JR BEN F\n"
     ]
    },
    {
     "data": {
      "text/plain": [
       "18"
      ]
     },
     "execution_count": 9,
     "metadata": {},
     "output_type": "execute_result"
    }
   ],
   "source": [
    "# people of interest\n",
    "count=0\n",
    "for key,item in data_dict.iteritems():\n",
    "    if item['poi']:\n",
    "        print key\n",
    "        count +=1\n",
    "count"
   ]
  },
  {
   "cell_type": "code",
   "execution_count": 10,
   "metadata": {
    "collapsed": true
   },
   "outputs": [],
   "source": [
    "# create a dictionary for all missing values\n",
    "missing = {}\n",
    "for key, item in data_dict.iteritems():\n",
    "    for elem, value in item.iteritems():\n",
    "        if value == \"NaN\":\n",
    "            if elem not in missing:\n",
    "                missing[elem] = 1\n",
    "            else:\n",
    "                missing[elem] += 1"
   ]
  },
  {
   "cell_type": "code",
   "execution_count": 11,
   "metadata": {
    "collapsed": false
   },
   "outputs": [
    {
     "data": {
      "text/plain": [
       "{'bonus': 64,\n",
       " 'deferral_payments': 107,\n",
       " 'deferred_income': 97,\n",
       " 'director_fees': 129,\n",
       " 'email_address': 35,\n",
       " 'exercised_stock_options': 44,\n",
       " 'expenses': 51,\n",
       " 'from_messages': 60,\n",
       " 'from_poi_to_this_person': 60,\n",
       " 'from_this_person_to_poi': 60,\n",
       " 'loan_advances': 142,\n",
       " 'long_term_incentive': 80,\n",
       " 'other': 53,\n",
       " 'restricted_stock': 36,\n",
       " 'restricted_stock_deferred': 128,\n",
       " 'salary': 51,\n",
       " 'shared_receipt_with_poi': 60,\n",
       " 'to_messages': 60,\n",
       " 'total_payments': 21,\n",
       " 'total_stock_value': 20}"
      ]
     },
     "execution_count": 11,
     "metadata": {},
     "output_type": "execute_result"
    }
   ],
   "source": [
    "# Missing values\n",
    "missing = {}\n",
    "for key, item in data_dict.iteritems():\n",
    "    for elem, value in item.iteritems():\n",
    "        if value == \"NaN\":\n",
    "            if elem not in missing:\n",
    "                missing[elem] = 1\n",
    "            else:\n",
    "                missing[elem] += 1\n",
    "missing"
   ]
  },
  {
   "cell_type": "code",
   "execution_count": 12,
   "metadata": {
    "collapsed": false
   },
   "outputs": [
    {
     "data": {
      "text/plain": [
       "1358"
      ]
     },
     "execution_count": 12,
     "metadata": {},
     "output_type": "execute_result"
    }
   ],
   "source": [
    "# number of missing values\n",
    "number_of_missing = 0\n",
    "for key, item in missing.iteritems():\n",
    "    number_of_missing += item\n",
    "number_of_missing"
   ]
  },
  {
   "cell_type": "markdown",
   "metadata": {},
   "source": [
    "### Data Summary\n",
    "\n",
    "- We have 146 people / data points in our dataset.\n",
    "- There are 128 non-POIs and 18 POIs in our dataset.\n",
    "- There are 21 available features.\n",
    "- We have 1358 missing data points\n",
    "\n",
    "The following features seems to lack data points:\n",
    "\n",
    "- director_fees\n",
    "- loan_advances\n",
    "- deferral_payments\n",
    "- deferred_income\n",
    "- restricted_stock_deferred\n",
    "\n",
    "We will later convert these NaNs to zeros through feature format."
   ]
  },
  {
   "cell_type": "markdown",
   "metadata": {},
   "source": [
    "## 2.2 Remove Outliers\n",
    "\n",
    "Outliers could bias out model.First we will check whether some of data are outliers. Then we will see whether we should remove them or not. We have already know there is an outlier called 'total',which we will remove first."
   ]
  },
  {
   "cell_type": "code",
   "execution_count": 13,
   "metadata": {
    "collapsed": false
   },
   "outputs": [
    {
     "data": {
      "text/plain": [
       "{'bonus': 97343619,\n",
       " 'deferral_payments': 32083396,\n",
       " 'deferred_income': -27992891,\n",
       " 'director_fees': 1398517,\n",
       " 'email_address': 'NaN',\n",
       " 'exercised_stock_options': 311764000,\n",
       " 'expenses': 5235198,\n",
       " 'from_messages': 'NaN',\n",
       " 'from_poi_to_this_person': 'NaN',\n",
       " 'from_this_person_to_poi': 'NaN',\n",
       " 'loan_advances': 83925000,\n",
       " 'long_term_incentive': 48521928,\n",
       " 'other': 42667589,\n",
       " 'poi': False,\n",
       " 'restricted_stock': 130322299,\n",
       " 'restricted_stock_deferred': -7576788,\n",
       " 'salary': 26704229,\n",
       " 'shared_receipt_with_poi': 'NaN',\n",
       " 'to_messages': 'NaN',\n",
       " 'total_payments': 309886585,\n",
       " 'total_stock_value': 434509511}"
      ]
     },
     "execution_count": 13,
     "metadata": {},
     "output_type": "execute_result"
    }
   ],
   "source": [
    "# Remove 'Total'\n",
    "data_dict.pop('TOTAL','not found')"
   ]
  },
  {
   "cell_type": "markdown",
   "metadata": {},
   "source": [
    "### (1) Check for Outliers\n",
    "\n",
    "First we take all features. We will do some summary statistics to all them to spot outliers."
   ]
  },
  {
   "cell_type": "code",
   "execution_count": 16,
   "metadata": {
    "collapsed": false
   },
   "outputs": [],
   "source": [
    "### features_list is a list of strings, each of which is a feature name.\n",
    "### The first feature must be \"poi\".\n",
    "features_to_test = ['poi',\n",
    "                 'salary',\n",
    "                 'to_messages',\n",
    "                 'deferral_payments',\n",
    "                 'total_payments',\n",
    "                 'exercised_stock_options',\n",
    "                 'bonus',\n",
    "                 'restricted_stock',\n",
    "                 'shared_receipt_with_poi',\n",
    "                 'restricted_stock_deferred',\n",
    "                 'total_stock_value',\n",
    "                 'expenses',\n",
    "                 'loan_advances',\n",
    "                 'from_messages',\n",
    "                 'other',\n",
    "                 'from_this_person_to_poi',\n",
    "                 'director_fees',\n",
    "                 'deferred_income',\n",
    "                 'long_term_incentive',\n",
    "                 'from_poi_to_this_person']\n",
    "\n",
    "# format the dataset\n",
    "data_to_test = featureFormat(data_dict, features_to_test)\n",
    "\n",
    "# create a pandas dataframe\n",
    "df = pd.DataFrame(data_to_test, columns = features_to_test)"
   ]
  },
  {
   "cell_type": "code",
   "execution_count": null,
   "metadata": {
    "collapsed": true
   },
   "outputs": [],
   "source": [
    "# an alternative way to convert to pd\n",
    "\n",
    "# We will use pandas many times in our project so turn this into a function:\n",
    "def to_pandas(data_dict):\n",
    "    df = pd.DataFrame(data_dict)\n",
    "    df = df.convert_objects(convert_numeric=True)\n",
    "    df = df.transpose()\n",
    "    df.reset_index(level=0, inplace=True)\n",
    "    # Renaming with df.rename(columns={'index': 'name'}) does not work\n",
    "    # pandas bug??\n",
    "    columns = list(df.columns)\n",
    "    columns[0] = 'name'\n",
    "    df.columns = columns\n",
    "    return(df)\n",
    "df = to_pandas(data_dict)"
   ]
  },
  {
   "cell_type": "code",
   "execution_count": 38,
   "metadata": {
    "collapsed": false
   },
   "outputs": [
    {
     "data": {
      "text/plain": [
       "(144, 20)"
      ]
     },
     "execution_count": 38,
     "metadata": {},
     "output_type": "execute_result"
    }
   ],
   "source": [
    "df.shape"
   ]
  },
  {
   "cell_type": "code",
   "execution_count": 14,
   "metadata": {
    "collapsed": false
   },
   "outputs": [
    {
     "data": {
      "text/plain": [
       "145"
      ]
     },
     "execution_count": 14,
     "metadata": {},
     "output_type": "execute_result"
    }
   ],
   "source": [
    "len(data_dict.keys())"
   ]
  },
  {
   "cell_type": "code",
   "execution_count": 20,
   "metadata": {
    "collapsed": false
   },
   "outputs": [
    {
     "data": {
      "text/plain": [
       "numpy.ndarray"
      ]
     },
     "execution_count": 20,
     "metadata": {},
     "output_type": "execute_result"
    }
   ],
   "source": [
    "type(data_to_test)"
   ]
  },
  {
   "cell_type": "code",
   "execution_count": 22,
   "metadata": {
    "collapsed": false
   },
   "outputs": [
    {
     "data": {
      "text/plain": [
       "(144L, 20L)"
      ]
     },
     "execution_count": 22,
     "metadata": {},
     "output_type": "execute_result"
    }
   ],
   "source": [
    "data_to_test.shape"
   ]
  },
  {
   "cell_type": "code",
   "execution_count": 17,
   "metadata": {
    "collapsed": false
   },
   "outputs": [
    {
     "data": {
      "text/plain": [
       "(144, 20)"
      ]
     },
     "execution_count": 17,
     "metadata": {},
     "output_type": "execute_result"
    }
   ],
   "source": [
    "df.shape"
   ]
  },
  {
   "cell_type": "code",
   "execution_count": 14,
   "metadata": {
    "collapsed": false,
    "scrolled": true
   },
   "outputs": [
    {
     "data": {
      "text/html": [
       "<div>\n",
       "<table border=\"1\" class=\"dataframe\">\n",
       "  <thead>\n",
       "    <tr style=\"text-align: right;\">\n",
       "      <th></th>\n",
       "      <th>count</th>\n",
       "      <th>mean</th>\n",
       "      <th>std</th>\n",
       "      <th>min</th>\n",
       "      <th>25%</th>\n",
       "      <th>50%</th>\n",
       "      <th>75%</th>\n",
       "      <th>max</th>\n",
       "    </tr>\n",
       "  </thead>\n",
       "  <tbody>\n",
       "    <tr>\n",
       "      <th>poi</th>\n",
       "      <td>144.0</td>\n",
       "      <td>1.250e-01</td>\n",
       "      <td>3.319e-01</td>\n",
       "      <td>0.000e+00</td>\n",
       "      <td>0.00</td>\n",
       "      <td>0.0</td>\n",
       "      <td>0.000e+00</td>\n",
       "      <td>1.000e+00</td>\n",
       "    </tr>\n",
       "    <tr>\n",
       "      <th>salary</th>\n",
       "      <td>144.0</td>\n",
       "      <td>1.854e+05</td>\n",
       "      <td>1.970e+05</td>\n",
       "      <td>0.000e+00</td>\n",
       "      <td>0.00</td>\n",
       "      <td>210596.0</td>\n",
       "      <td>2.697e+05</td>\n",
       "      <td>1.111e+06</td>\n",
       "    </tr>\n",
       "    <tr>\n",
       "      <th>to_messages</th>\n",
       "      <td>144.0</td>\n",
       "      <td>1.239e+03</td>\n",
       "      <td>2.238e+03</td>\n",
       "      <td>0.000e+00</td>\n",
       "      <td>0.00</td>\n",
       "      <td>347.5</td>\n",
       "      <td>1.623e+03</td>\n",
       "      <td>1.515e+04</td>\n",
       "    </tr>\n",
       "    <tr>\n",
       "      <th>deferral_payments</th>\n",
       "      <td>144.0</td>\n",
       "      <td>2.221e+05</td>\n",
       "      <td>7.541e+05</td>\n",
       "      <td>-1.025e+05</td>\n",
       "      <td>0.00</td>\n",
       "      <td>0.0</td>\n",
       "      <td>8.536e+03</td>\n",
       "      <td>6.427e+06</td>\n",
       "    </tr>\n",
       "    <tr>\n",
       "      <th>total_payments</th>\n",
       "      <td>144.0</td>\n",
       "      <td>2.259e+06</td>\n",
       "      <td>8.847e+06</td>\n",
       "      <td>0.000e+00</td>\n",
       "      <td>99648.25</td>\n",
       "      <td>941359.5</td>\n",
       "      <td>1.946e+06</td>\n",
       "      <td>1.036e+08</td>\n",
       "    </tr>\n",
       "    <tr>\n",
       "      <th>exercised_stock_options</th>\n",
       "      <td>144.0</td>\n",
       "      <td>2.076e+06</td>\n",
       "      <td>4.796e+06</td>\n",
       "      <td>0.000e+00</td>\n",
       "      <td>0.00</td>\n",
       "      <td>608293.5</td>\n",
       "      <td>1.684e+06</td>\n",
       "      <td>3.435e+07</td>\n",
       "    </tr>\n",
       "    <tr>\n",
       "      <th>bonus</th>\n",
       "      <td>144.0</td>\n",
       "      <td>6.760e+05</td>\n",
       "      <td>1.233e+06</td>\n",
       "      <td>0.000e+00</td>\n",
       "      <td>0.00</td>\n",
       "      <td>300000.0</td>\n",
       "      <td>8.000e+05</td>\n",
       "      <td>8.000e+06</td>\n",
       "    </tr>\n",
       "    <tr>\n",
       "      <th>restricted_stock</th>\n",
       "      <td>144.0</td>\n",
       "      <td>8.685e+05</td>\n",
       "      <td>2.017e+06</td>\n",
       "      <td>-2.604e+06</td>\n",
       "      <td>24345.00</td>\n",
       "      <td>360528.0</td>\n",
       "      <td>7.375e+05</td>\n",
       "      <td>1.476e+07</td>\n",
       "    </tr>\n",
       "    <tr>\n",
       "      <th>shared_receipt_with_poi</th>\n",
       "      <td>144.0</td>\n",
       "      <td>7.026e+02</td>\n",
       "      <td>1.077e+03</td>\n",
       "      <td>0.000e+00</td>\n",
       "      <td>0.00</td>\n",
       "      <td>114.0</td>\n",
       "      <td>9.338e+02</td>\n",
       "      <td>5.521e+03</td>\n",
       "    </tr>\n",
       "    <tr>\n",
       "      <th>restricted_stock_deferred</th>\n",
       "      <td>144.0</td>\n",
       "      <td>7.342e+04</td>\n",
       "      <td>1.302e+06</td>\n",
       "      <td>-1.787e+06</td>\n",
       "      <td>0.00</td>\n",
       "      <td>0.0</td>\n",
       "      <td>0.000e+00</td>\n",
       "      <td>1.546e+07</td>\n",
       "    </tr>\n",
       "    <tr>\n",
       "      <th>total_stock_value</th>\n",
       "      <td>144.0</td>\n",
       "      <td>2.910e+06</td>\n",
       "      <td>6.189e+06</td>\n",
       "      <td>-4.409e+04</td>\n",
       "      <td>244326.50</td>\n",
       "      <td>965955.0</td>\n",
       "      <td>2.295e+06</td>\n",
       "      <td>4.911e+07</td>\n",
       "    </tr>\n",
       "    <tr>\n",
       "      <th>expenses</th>\n",
       "      <td>144.0</td>\n",
       "      <td>3.538e+04</td>\n",
       "      <td>4.531e+04</td>\n",
       "      <td>0.000e+00</td>\n",
       "      <td>0.00</td>\n",
       "      <td>20182.0</td>\n",
       "      <td>5.333e+04</td>\n",
       "      <td>2.288e+05</td>\n",
       "    </tr>\n",
       "    <tr>\n",
       "      <th>loan_advances</th>\n",
       "      <td>144.0</td>\n",
       "      <td>5.828e+05</td>\n",
       "      <td>6.794e+06</td>\n",
       "      <td>0.000e+00</td>\n",
       "      <td>0.00</td>\n",
       "      <td>0.0</td>\n",
       "      <td>0.000e+00</td>\n",
       "      <td>8.152e+07</td>\n",
       "    </tr>\n",
       "    <tr>\n",
       "      <th>from_messages</th>\n",
       "      <td>144.0</td>\n",
       "      <td>3.636e+02</td>\n",
       "      <td>1.451e+03</td>\n",
       "      <td>0.000e+00</td>\n",
       "      <td>0.00</td>\n",
       "      <td>17.5</td>\n",
       "      <td>5.300e+01</td>\n",
       "      <td>1.437e+04</td>\n",
       "    </tr>\n",
       "    <tr>\n",
       "      <th>other</th>\n",
       "      <td>144.0</td>\n",
       "      <td>2.973e+05</td>\n",
       "      <td>1.131e+06</td>\n",
       "      <td>0.000e+00</td>\n",
       "      <td>0.00</td>\n",
       "      <td>959.5</td>\n",
       "      <td>1.505e+05</td>\n",
       "      <td>1.036e+07</td>\n",
       "    </tr>\n",
       "    <tr>\n",
       "      <th>from_this_person_to_poi</th>\n",
       "      <td>144.0</td>\n",
       "      <td>2.462e+01</td>\n",
       "      <td>7.978e+01</td>\n",
       "      <td>0.000e+00</td>\n",
       "      <td>0.00</td>\n",
       "      <td>0.0</td>\n",
       "      <td>1.400e+01</td>\n",
       "      <td>6.090e+02</td>\n",
       "    </tr>\n",
       "    <tr>\n",
       "      <th>director_fees</th>\n",
       "      <td>144.0</td>\n",
       "      <td>9.980e+03</td>\n",
       "      <td>3.130e+04</td>\n",
       "      <td>0.000e+00</td>\n",
       "      <td>0.00</td>\n",
       "      <td>0.0</td>\n",
       "      <td>0.000e+00</td>\n",
       "      <td>1.379e+05</td>\n",
       "    </tr>\n",
       "    <tr>\n",
       "      <th>deferred_income</th>\n",
       "      <td>144.0</td>\n",
       "      <td>-1.937e+05</td>\n",
       "      <td>6.060e+05</td>\n",
       "      <td>-3.504e+06</td>\n",
       "      <td>-37086.00</td>\n",
       "      <td>0.0</td>\n",
       "      <td>0.000e+00</td>\n",
       "      <td>0.000e+00</td>\n",
       "    </tr>\n",
       "    <tr>\n",
       "      <th>long_term_incentive</th>\n",
       "      <td>144.0</td>\n",
       "      <td>3.370e+05</td>\n",
       "      <td>6.872e+05</td>\n",
       "      <td>0.000e+00</td>\n",
       "      <td>0.00</td>\n",
       "      <td>0.0</td>\n",
       "      <td>3.746e+05</td>\n",
       "      <td>5.145e+06</td>\n",
       "    </tr>\n",
       "    <tr>\n",
       "      <th>from_poi_to_this_person</th>\n",
       "      <td>144.0</td>\n",
       "      <td>3.876e+01</td>\n",
       "      <td>7.428e+01</td>\n",
       "      <td>0.000e+00</td>\n",
       "      <td>0.00</td>\n",
       "      <td>4.0</td>\n",
       "      <td>4.125e+01</td>\n",
       "      <td>5.280e+02</td>\n",
       "    </tr>\n",
       "  </tbody>\n",
       "</table>\n",
       "</div>"
      ],
      "text/plain": [
       "                           count       mean        std        min        25%  \\\n",
       "poi                        144.0  1.250e-01  3.319e-01  0.000e+00       0.00   \n",
       "salary                     144.0  1.854e+05  1.970e+05  0.000e+00       0.00   \n",
       "to_messages                144.0  1.239e+03  2.238e+03  0.000e+00       0.00   \n",
       "deferral_payments          144.0  2.221e+05  7.541e+05 -1.025e+05       0.00   \n",
       "total_payments             144.0  2.259e+06  8.847e+06  0.000e+00   99648.25   \n",
       "exercised_stock_options    144.0  2.076e+06  4.796e+06  0.000e+00       0.00   \n",
       "bonus                      144.0  6.760e+05  1.233e+06  0.000e+00       0.00   \n",
       "restricted_stock           144.0  8.685e+05  2.017e+06 -2.604e+06   24345.00   \n",
       "shared_receipt_with_poi    144.0  7.026e+02  1.077e+03  0.000e+00       0.00   \n",
       "restricted_stock_deferred  144.0  7.342e+04  1.302e+06 -1.787e+06       0.00   \n",
       "total_stock_value          144.0  2.910e+06  6.189e+06 -4.409e+04  244326.50   \n",
       "expenses                   144.0  3.538e+04  4.531e+04  0.000e+00       0.00   \n",
       "loan_advances              144.0  5.828e+05  6.794e+06  0.000e+00       0.00   \n",
       "from_messages              144.0  3.636e+02  1.451e+03  0.000e+00       0.00   \n",
       "other                      144.0  2.973e+05  1.131e+06  0.000e+00       0.00   \n",
       "from_this_person_to_poi    144.0  2.462e+01  7.978e+01  0.000e+00       0.00   \n",
       "director_fees              144.0  9.980e+03  3.130e+04  0.000e+00       0.00   \n",
       "deferred_income            144.0 -1.937e+05  6.060e+05 -3.504e+06  -37086.00   \n",
       "long_term_incentive        144.0  3.370e+05  6.872e+05  0.000e+00       0.00   \n",
       "from_poi_to_this_person    144.0  3.876e+01  7.428e+01  0.000e+00       0.00   \n",
       "\n",
       "                                50%        75%        max  \n",
       "poi                             0.0  0.000e+00  1.000e+00  \n",
       "salary                     210596.0  2.697e+05  1.111e+06  \n",
       "to_messages                   347.5  1.623e+03  1.515e+04  \n",
       "deferral_payments               0.0  8.536e+03  6.427e+06  \n",
       "total_payments             941359.5  1.946e+06  1.036e+08  \n",
       "exercised_stock_options    608293.5  1.684e+06  3.435e+07  \n",
       "bonus                      300000.0  8.000e+05  8.000e+06  \n",
       "restricted_stock           360528.0  7.375e+05  1.476e+07  \n",
       "shared_receipt_with_poi       114.0  9.338e+02  5.521e+03  \n",
       "restricted_stock_deferred       0.0  0.000e+00  1.546e+07  \n",
       "total_stock_value          965955.0  2.295e+06  4.911e+07  \n",
       "expenses                    20182.0  5.333e+04  2.288e+05  \n",
       "loan_advances                   0.0  0.000e+00  8.152e+07  \n",
       "from_messages                  17.5  5.300e+01  1.437e+04  \n",
       "other                         959.5  1.505e+05  1.036e+07  \n",
       "from_this_person_to_poi         0.0  1.400e+01  6.090e+02  \n",
       "director_fees                   0.0  0.000e+00  1.379e+05  \n",
       "deferred_income                 0.0  0.000e+00  0.000e+00  \n",
       "long_term_incentive             0.0  3.746e+05  5.145e+06  \n",
       "from_poi_to_this_person         4.0  4.125e+01  5.280e+02  "
      ]
     },
     "execution_count": 14,
     "metadata": {},
     "output_type": "execute_result"
    }
   ],
   "source": [
    "des=df.describe() # Explore features\n",
    "des.transpose()"
   ]
  },
  {
   "cell_type": "code",
   "execution_count": 17,
   "metadata": {
    "collapsed": false
   },
   "outputs": [
    {
     "data": {
      "text/html": [
       "<div>\n",
       "<table border=\"1\" class=\"dataframe\">\n",
       "  <thead>\n",
       "    <tr>\n",
       "      <th></th>\n",
       "      <th>bonus</th>\n",
       "      <th>salary</th>\n",
       "      <th>exercised_stock_options</th>\n",
       "      <th>shared_receipt_with_poi</th>\n",
       "      <th>loan_advances</th>\n",
       "      <th>to_messages</th>\n",
       "    </tr>\n",
       "    <tr>\n",
       "      <th></th>\n",
       "      <th>mean</th>\n",
       "      <th>mean</th>\n",
       "      <th>mean</th>\n",
       "      <th>mean</th>\n",
       "      <th>mean</th>\n",
       "      <th>mean</th>\n",
       "    </tr>\n",
       "    <tr>\n",
       "      <th>poi</th>\n",
       "      <th></th>\n",
       "      <th></th>\n",
       "      <th></th>\n",
       "      <th></th>\n",
       "      <th></th>\n",
       "      <th></th>\n",
       "    </tr>\n",
       "  </thead>\n",
       "  <tbody>\n",
       "    <tr>\n",
       "      <th>0.000</th>\n",
       "      <td>509076.349</td>\n",
       "      <td>160203.698</td>\n",
       "      <td>1375793.341</td>\n",
       "      <td>604.873</td>\n",
       "      <td>19047.619</td>\n",
       "      <td>1146.921</td>\n",
       "    </tr>\n",
       "    <tr>\n",
       "      <th>1.000</th>\n",
       "      <td>1844444.389</td>\n",
       "      <td>362142.389</td>\n",
       "      <td>6975862.444</td>\n",
       "      <td>1386.778</td>\n",
       "      <td>4529166.667</td>\n",
       "      <td>1880.000</td>\n",
       "    </tr>\n",
       "  </tbody>\n",
       "</table>\n",
       "</div>"
      ],
      "text/plain": [
       "            bonus     salary exercised_stock_options shared_receipt_with_poi  \\\n",
       "             mean       mean                    mean                    mean   \n",
       "poi                                                                            \n",
       "0.000  509076.349 160203.698             1375793.341                 604.873   \n",
       "1.000 1844444.389 362142.389             6975862.444                1386.778   \n",
       "\n",
       "      loan_advances to_messages  \n",
       "               mean        mean  \n",
       "poi                              \n",
       "0.000     19047.619    1146.921  \n",
       "1.000   4529166.667    1880.000  "
      ]
     },
     "execution_count": 17,
     "metadata": {},
     "output_type": "execute_result"
    }
   ],
   "source": [
    "bypoi=df.groupby(['poi'])\n",
    "bypoi['bonus',\n",
    "    'salary',\n",
    "    'exercised_stock_options',\n",
    "    'shared_receipt_with_poi',\n",
    "    'loan_advances',\n",
    "    'to_messages'].agg([np.mean])"
   ]
  },
  {
   "cell_type": "markdown",
   "metadata": {},
   "source": [
    "###  (3) Visualize Outliers\n",
    "\n",
    "We will plots histgrams to check each feature for outliers."
   ]
  },
  {
   "cell_type": "code",
   "execution_count": 22,
   "metadata": {
    "collapsed": false
   },
   "outputs": [
    {
     "data": {
      "image/png": "[encoded data removed]",
      "text/plain": [
       "<matplotlib.figure.Figure at 0xe9d88d0>"
      ]
     },
     "metadata": {},
     "output_type": "display_data"
    }
   ],
   "source": [
    "# This creates a canvas of size 15 points width and 30 points height\n",
    "fig = plt.figure(figsize=(15, 30))\n",
    "\n",
    "for idx, feature in enumerate(features_to_test):\n",
    "    # This means: Divide that canvas to 6 rows, 3 columns,\n",
    "    # and at idx+1 position (since subplot is base-1), draw our plot.\n",
    "    ax = plt.subplot(6,4, idx+1)\n",
    "    \n",
    "    plt.title(feature)\n",
    "    plt.xticks(rotation='vertical')\n",
    "    \n",
    "    # hspace here sets space between rows.\n",
    "    # http://matplotlib.org/api/figure_api.html#matplotlib.figure.SubplotParams\n",
    "    plt.subplots_adjust(hspace=.6) \n",
    "    \n",
    "    ax.hist(data_to_test[:,idx])"
   ]
  },
  {
   "cell_type": "markdown",
   "metadata": {},
   "source": [
    "As you can see from above histgrams, all of them are very skewed and have suspicious data. We will look at them case by case. The following features are very suspicous:\n",
    "\n",
    "- Total payments: a few values are way bigger than the rest\n",
    "- Loan advances: suspicoud large tails\n",
    "- Restricted stock deferred: negative values occurred\n",
    "- Total stock value\n",
    "\n",
    "We will check them one by one later."
   ]
  },
  {
   "cell_type": "code",
   "execution_count": 23,
   "metadata": {
    "collapsed": true
   },
   "outputs": [],
   "source": [
    "def show_largest_five(data_dict, features, feature):\n",
    "    # What are the 5 largest points, sorted by x?\n",
    "    print \"5 largest\", feature\n",
    "    sorted_list = sorted(data_dict.iteritems(), \n",
    "                 key=lambda (key, val): int(0 if val[feature] == 'NaN' else val[feature]), reverse=True)[0:5]\n",
    "    print [(i[0]+ \"(\" + ('poi' if i[1]['poi'] else 'not poi') + \"): \"+ str(i[1][feature])) for i in sorted_list]"
   ]
  },
  {
   "cell_type": "code",
   "execution_count": 28,
   "metadata": {
    "collapsed": false,
    "scrolled": true
   },
   "outputs": [
    {
     "name": "stdout",
     "output_type": "stream",
     "text": [
      "5 largest poi\n",
      "['HANNON KEVIN P(poi): True', 'COLWELL WESLEY(poi): True', 'RIEKER PAULA H(poi): True', 'KOPPER MICHAEL J(poi): True', 'SHELBY REX(poi): True']\n",
      "\n",
      "5 largest salary\n",
      "['SKILLING JEFFREY K(poi): 1111258', 'LAY KENNETH L(poi): 1072321', 'FREVERT MARK A(not poi): 1060932', 'PICKERING MARK R(not poi): 655037', 'WHALLEY LAWRENCE G(not poi): 510364']\n",
      "\n",
      "5 largest to_messages\n",
      "['SHAPIRO RICHARD S(not poi): 15149', 'KEAN STEVEN J(not poi): 12754', 'KITCHEN LOUISE(not poi): 8305', 'BELDEN TIMOTHY N(poi): 7991', 'BECK SALLY W(not poi): 7315']\n",
      "\n",
      "5 largest deferral_payments\n",
      "['FREVERT MARK A(not poi): 6426990', 'HORTON STANLEY C(not poi): 3131860', 'HUMPHREY GENE E(not poi): 2964506', 'ALLEN PHILLIP K(not poi): 2869717', 'HAEDICKE MARK E(not poi): 2157527']\n",
      "\n",
      "5 largest total_payments\n",
      "['LAY KENNETH L(poi): 103559793', 'FREVERT MARK A(not poi): 17252530', 'BHATNAGAR SANJAY(not poi): 15456290', 'LAVORATO JOHN J(not poi): 10425757', 'SKILLING JEFFREY K(poi): 8682716']\n",
      "\n",
      "5 largest exercised_stock_options\n",
      "['LAY KENNETH L(poi): 34348384', 'HIRKO JOSEPH(poi): 30766064', 'RICE KENNETH D(poi): 19794175', 'SKILLING JEFFREY K(poi): 19250000', 'PAI LOU L(not poi): 15364167']\n",
      "\n",
      "5 largest bonus\n",
      "['LAVORATO JOHN J(not poi): 8000000', 'LAY KENNETH L(poi): 7000000', 'SKILLING JEFFREY K(poi): 5600000', 'BELDEN TIMOTHY N(poi): 5249999', 'ALLEN PHILLIP K(not poi): 4175000']\n",
      "\n",
      "5 largest restricted_stock\n",
      "['LAY KENNETH L(poi): 14761694', 'WHITE JR THOMAS E(not poi): 13847074', 'PAI LOU L(not poi): 8453763', 'SKILLING JEFFREY K(poi): 6843672', 'FREVERT MARK A(not poi): 4188667']\n",
      "\n",
      "5 largest shared_receipt_with_poi\n",
      "['BELDEN TIMOTHY N(poi): 5521', 'SHAPIRO RICHARD S(not poi): 4527', 'LAVORATO JOHN J(not poi): 3962', 'WHALLEY LAWRENCE G(not poi): 3920', 'KITCHEN LOUISE(not poi): 3669']\n",
      "\n",
      "5 largest restricted_stock_deferred\n",
      "['BHATNAGAR SANJAY(not poi): 15456290', 'BELFER ROBERT(not poi): 44093', 'METTS MARK(not poi): NaN', 'BAXTER JOHN C(not poi): NaN', 'ELLIOTT STEVEN(not poi): NaN']\n",
      "\n",
      "5 largest total_stock_value\n",
      "['LAY KENNETH L(poi): 49110078', 'HIRKO JOSEPH(poi): 30766064', 'SKILLING JEFFREY K(poi): 26093672', 'PAI LOU L(not poi): 23817930', 'RICE KENNETH D(poi): 22542539']\n",
      "\n",
      "5 largest expenses\n",
      "['MCCLELLAN GEORGE(not poi): 228763', 'URQUHART JOHN A(not poi): 228656', 'SHANKMAN JEFFREY A(not poi): 178979', 'SHAPIRO RICHARD S(not poi): 137767', 'MCMAHON JEFFREY(not poi): 137108']\n",
      "\n",
      "5 largest loan_advances\n",
      "['LAY KENNETH L(poi): 81525000', 'FREVERT MARK A(not poi): 2000000', 'PICKERING MARK R(not poi): 400000', 'METTS MARK(not poi): NaN', 'BAXTER JOHN C(not poi): NaN']\n",
      "\n",
      "5 largest from_messages\n",
      "['KAMINSKI WINCENTY J(not poi): 14368', 'KEAN STEVEN J(not poi): 6759', 'BECK SALLY W(not poi): 4343', 'DELAINEY DAVID W(poi): 3069', 'MCCONNELL MICHAEL S(not poi): 2742']\n",
      "\n",
      "5 largest other\n",
      "['LAY KENNETH L(poi): 10359729', 'FREVERT MARK A(not poi): 7427621', 'MARTIN AMANDA K(not poi): 2818454', 'BAXTER JOHN C(not poi): 2660303', 'SHERRIFF JOHN R(not poi): 1852186']\n",
      "\n",
      "5 largest from_this_person_to_poi\n",
      "['DELAINEY DAVID W(poi): 609', 'LAVORATO JOHN J(not poi): 411', 'KEAN STEVEN J(not poi): 387', 'BECK SALLY W(not poi): 386', 'KITCHEN LOUISE(not poi): 194']\n",
      "\n",
      "5 largest director_fees\n",
      "['BHATNAGAR SANJAY(not poi): 137864', 'SAVAGE FRANK(not poi): 125034', 'GRAMM WENDY L(not poi): 119292', 'BLAKE JR. NORMAN P(not poi): 113784', 'LEMAISTRE CHARLES(not poi): 112492']\n",
      "\n",
      "5 largest deferred_income\n",
      "['METTS MARK(not poi): NaN', 'CORDES WILLIAM R(not poi): NaN', 'MORDAUNT KRISTINA M(not poi): NaN', 'MEYER ROCKFORD G(not poi): NaN', 'MCMAHON JEFFREY(not poi): NaN']\n",
      "\n",
      "5 largest long_term_incentive\n",
      "['MARTIN AMANDA K(not poi): 5145434', 'LAY KENNETH L(poi): 3600000', 'ECHOLS JOHN B(not poi): 2234774', 'LAVORATO JOHN J(not poi): 2035380', 'SKILLING JEFFREY K(poi): 1920000']\n",
      "\n",
      "5 largest from_poi_to_this_person\n",
      "['LAVORATO JOHN J(not poi): 528', 'DIETRICH JANET R(not poi): 305', 'KITCHEN LOUISE(not poi): 251', 'FREVERT MARK A(not poi): 242', 'COLWELL WESLEY(poi): 240']\n",
      "\n"
     ]
    }
   ],
   "source": [
    "for feature in features_to_test:\n",
    "    show_largest_five(data_dict,features_to_test,feature)\n",
    "    print"
   ]
  },
  {
   "cell_type": "markdown",
   "metadata": {},
   "source": [
    "For the largest 5 values in all the feature there are two types of pattern, either most ourliers are poi or not related with poi, which shows no suspicion for outlier. restricted_stock_deferred could be an outlier, but we can't really tell at the moment,because the largest value does not belong to"
   ]
  },
  {
   "cell_type": "markdown",
   "metadata": {},
   "source": [
    "### (4) Cross reference with the insider pay PDF.\n",
    "\n",
    "From the pdf, we can find that there are two groups of insider pays:\n",
    "\n",
    "Total_payments, which is a combination of:\n",
    "- salary\n",
    "- bonus\n",
    "- director_fees\n",
    "- deferral_payments\n",
    "- deferred_income\n",
    "- loan_advances\n",
    "- long_term_incentive\n",
    "- expenses\n",
    "- other\n",
    "- salary\n",
    "\n",
    "Total_stock_value, a combination of:\n",
    "- restricted_stock\n",
    "- exercised_stock_options\n",
    "- restricted_stock_deferred\n",
    "\n",
    "We will check if there is any input errors by sum them up and compare."
   ]
  },
  {
   "cell_type": "code",
   "execution_count": 48,
   "metadata": {
    "collapsed": false,
    "scrolled": true
   },
   "outputs": [
    {
     "name": "stdout",
     "output_type": "stream",
     "text": [
      "                 name    combined  total_payments equals?   poi\n",
      "0     ALLEN PHILLIP K 4484442.000     4484442.000    True 0.000\n",
      "1       BADUM JAMES P  182466.000      182466.000    True 0.000\n",
      "2  BANNANTINE JAMES M  916197.000      916197.000    True 0.000\n",
      "3       BAXTER JOHN C 5634343.000     5634343.000    True 0.000\n",
      "4      BAY FRANKLIN R  827696.000      827696.000    True 0.000\n",
      "143  out of  145\n",
      "Total difference between combined and total_payments:  15382277.0\n",
      "\n",
      "\n",
      "Which data points are different?\n",
      "                name   combined  total_payments equals?   poi\n",
      "8      BELFER ROBERT -99215.000      102500.000   False 0.000\n",
      "11  BHATNAGAR SANJAY 275728.000    15456290.000   False 0.000\n"
     ]
    },
    {
     "data": {
      "text/html": [
       "<div>\n",
       "<table border=\"1\" class=\"dataframe\">\n",
       "  <thead>\n",
       "    <tr style=\"text-align: right;\">\n",
       "      <th></th>\n",
       "      <th>name</th>\n",
       "      <th>bonus</th>\n",
       "      <th>deferral_payments</th>\n",
       "      <th>deferred_income</th>\n",
       "      <th>director_fees</th>\n",
       "      <th>email_address</th>\n",
       "      <th>exercised_stock_options</th>\n",
       "      <th>expenses</th>\n",
       "      <th>from_messages</th>\n",
       "      <th>from_poi_to_this_person</th>\n",
       "      <th>...</th>\n",
       "      <th>long_term_incentive</th>\n",
       "      <th>other</th>\n",
       "      <th>poi</th>\n",
       "      <th>restricted_stock</th>\n",
       "      <th>restricted_stock_deferred</th>\n",
       "      <th>salary</th>\n",
       "      <th>shared_receipt_with_poi</th>\n",
       "      <th>to_messages</th>\n",
       "      <th>total_payments</th>\n",
       "      <th>total_stock_value</th>\n",
       "    </tr>\n",
       "  </thead>\n",
       "  <tbody>\n",
       "    <tr>\n",
       "      <th>8</th>\n",
       "      <td>BELFER ROBERT</td>\n",
       "      <td>0.000</td>\n",
       "      <td>-102500.000</td>\n",
       "      <td>0.000</td>\n",
       "      <td>3285.000</td>\n",
       "      <td>0.000</td>\n",
       "      <td>3285.000</td>\n",
       "      <td>0.000</td>\n",
       "      <td>0.000</td>\n",
       "      <td>0.000</td>\n",
       "      <td>...</td>\n",
       "      <td>0.000</td>\n",
       "      <td>0.000</td>\n",
       "      <td>0.000</td>\n",
       "      <td>0.000</td>\n",
       "      <td>44093.000</td>\n",
       "      <td>0.000</td>\n",
       "      <td>0.000</td>\n",
       "      <td>0.000</td>\n",
       "      <td>102500.000</td>\n",
       "      <td>-44093.000</td>\n",
       "    </tr>\n",
       "    <tr>\n",
       "      <th>11</th>\n",
       "      <td>BHATNAGAR SANJAY</td>\n",
       "      <td>0.000</td>\n",
       "      <td>0.000</td>\n",
       "      <td>0.000</td>\n",
       "      <td>137864.000</td>\n",
       "      <td>0.000</td>\n",
       "      <td>2604490.000</td>\n",
       "      <td>0.000</td>\n",
       "      <td>29.000</td>\n",
       "      <td>0.000</td>\n",
       "      <td>...</td>\n",
       "      <td>0.000</td>\n",
       "      <td>137864.000</td>\n",
       "      <td>0.000</td>\n",
       "      <td>-2604490.000</td>\n",
       "      <td>15456290.000</td>\n",
       "      <td>0.000</td>\n",
       "      <td>463.000</td>\n",
       "      <td>523.000</td>\n",
       "      <td>15456290.000</td>\n",
       "      <td>0.000</td>\n",
       "    </tr>\n",
       "  </tbody>\n",
       "</table>\n",
       "<p>2 rows × 22 columns</p>\n",
       "</div>"
      ],
      "text/plain": [
       "                name  bonus  deferral_payments  deferred_income  \\\n",
       "8      BELFER ROBERT  0.000        -102500.000            0.000   \n",
       "11  BHATNAGAR SANJAY  0.000              0.000            0.000   \n",
       "\n",
       "    director_fees  email_address  exercised_stock_options  expenses  \\\n",
       "8        3285.000          0.000                 3285.000     0.000   \n",
       "11     137864.000          0.000              2604490.000     0.000   \n",
       "\n",
       "    from_messages  from_poi_to_this_person        ...          \\\n",
       "8           0.000                    0.000        ...           \n",
       "11         29.000                    0.000        ...           \n",
       "\n",
       "    long_term_incentive      other   poi  restricted_stock  \\\n",
       "8                 0.000      0.000 0.000             0.000   \n",
       "11                0.000 137864.000 0.000      -2604490.000   \n",
       "\n",
       "    restricted_stock_deferred  salary  shared_receipt_with_poi  to_messages  \\\n",
       "8                   44093.000   0.000                    0.000        0.000   \n",
       "11               15456290.000   0.000                  463.000      523.000   \n",
       "\n",
       "    total_payments  total_stock_value  \n",
       "8       102500.000         -44093.000  \n",
       "11    15456290.000              0.000  \n",
       "\n",
       "[2 rows x 22 columns]"
      ]
     },
     "execution_count": 48,
     "metadata": {},
     "output_type": "execute_result"
    }
   ],
   "source": [
    "df2 = pd.DataFrame()\n",
    "\n",
    "df = df.fillna(0)\n",
    "df2['name'] = df['name']\n",
    "df2['combined'] = (\n",
    "    df['bonus'] + \n",
    "    df['director_fees'] +\n",
    "    df['deferral_payments'] +\n",
    "    df['deferred_income'] +\n",
    "    df['loan_advances'] +\n",
    "    df['long_term_incentive'] +\n",
    "    df['expenses'] +\n",
    "    df['other'] +\n",
    "    df['salary']\n",
    ")\n",
    "df2['total_payments'] = df['total_payments']\n",
    "df2['equals?'] = (df2['combined'] == df2['total_payments'])\n",
    "df2['poi'] = df['poi']\n",
    "print df2.head(5)\n",
    "print np.sum(df2['equals?']), \" out of \", len(df2)\n",
    "print \"Total difference between combined and total_payments: \", (np.sum(df2['total_payments']) - np.sum(df2['combined']))\n",
    "print \"\\n\"\n",
    "print \"Which data points are different?\"\n",
    "print df2[df2['equals?'] == False]\n",
    "df[df['name'].isin(df2[df2['equals?'] == False]['name'].tolist())]"
   ]
  },
  {
   "cell_type": "code",
   "execution_count": 49,
   "metadata": {
    "collapsed": false
   },
   "outputs": [
    {
     "name": "stdout",
     "output_type": "stream",
     "text": [
      "                 name     combined  total_stock_value equals?   poi\n",
      "0     ALLEN PHILLIP K  1729541.000        1729541.000    True 0.000\n",
      "1       BADUM JAMES P   257817.000         257817.000    True 0.000\n",
      "2  BANNANTINE JAMES M  5243487.000        5243487.000    True 0.000\n",
      "3       BAXTER JOHN C 10623258.000       10623258.000    True 0.000\n",
      "4      BAY FRANKLIN R    63014.000          63014.000    True 0.000\n",
      "143  out of  145\n",
      "Total difference between combined and total_stock_value:  -15547761.0\n",
      "\n",
      "\n",
      "Which data points are different?\n",
      "                name     combined  total_stock_value equals?   poi\n",
      "8      BELFER ROBERT    47378.000         -44093.000   False 0.000\n",
      "11  BHATNAGAR SANJAY 15456290.000              0.000   False 0.000\n"
     ]
    },
    {
     "data": {
      "text/html": [
       "<div>\n",
       "<table border=\"1\" class=\"dataframe\">\n",
       "  <thead>\n",
       "    <tr style=\"text-align: right;\">\n",
       "      <th></th>\n",
       "      <th>name</th>\n",
       "      <th>bonus</th>\n",
       "      <th>deferral_payments</th>\n",
       "      <th>deferred_income</th>\n",
       "      <th>director_fees</th>\n",
       "      <th>email_address</th>\n",
       "      <th>exercised_stock_options</th>\n",
       "      <th>expenses</th>\n",
       "      <th>from_messages</th>\n",
       "      <th>from_poi_to_this_person</th>\n",
       "      <th>...</th>\n",
       "      <th>long_term_incentive</th>\n",
       "      <th>other</th>\n",
       "      <th>poi</th>\n",
       "      <th>restricted_stock</th>\n",
       "      <th>restricted_stock_deferred</th>\n",
       "      <th>salary</th>\n",
       "      <th>shared_receipt_with_poi</th>\n",
       "      <th>to_messages</th>\n",
       "      <th>total_payments</th>\n",
       "      <th>total_stock_value</th>\n",
       "    </tr>\n",
       "  </thead>\n",
       "  <tbody>\n",
       "    <tr>\n",
       "      <th>8</th>\n",
       "      <td>BELFER ROBERT</td>\n",
       "      <td>0.000</td>\n",
       "      <td>-102500.000</td>\n",
       "      <td>0.000</td>\n",
       "      <td>3285.000</td>\n",
       "      <td>0.000</td>\n",
       "      <td>3285.000</td>\n",
       "      <td>0.000</td>\n",
       "      <td>0.000</td>\n",
       "      <td>0.000</td>\n",
       "      <td>...</td>\n",
       "      <td>0.000</td>\n",
       "      <td>0.000</td>\n",
       "      <td>0.000</td>\n",
       "      <td>0.000</td>\n",
       "      <td>44093.000</td>\n",
       "      <td>0.000</td>\n",
       "      <td>0.000</td>\n",
       "      <td>0.000</td>\n",
       "      <td>102500.000</td>\n",
       "      <td>-44093.000</td>\n",
       "    </tr>\n",
       "    <tr>\n",
       "      <th>11</th>\n",
       "      <td>BHATNAGAR SANJAY</td>\n",
       "      <td>0.000</td>\n",
       "      <td>0.000</td>\n",
       "      <td>0.000</td>\n",
       "      <td>137864.000</td>\n",
       "      <td>0.000</td>\n",
       "      <td>2604490.000</td>\n",
       "      <td>0.000</td>\n",
       "      <td>29.000</td>\n",
       "      <td>0.000</td>\n",
       "      <td>...</td>\n",
       "      <td>0.000</td>\n",
       "      <td>137864.000</td>\n",
       "      <td>0.000</td>\n",
       "      <td>-2604490.000</td>\n",
       "      <td>15456290.000</td>\n",
       "      <td>0.000</td>\n",
       "      <td>463.000</td>\n",
       "      <td>523.000</td>\n",
       "      <td>15456290.000</td>\n",
       "      <td>0.000</td>\n",
       "    </tr>\n",
       "  </tbody>\n",
       "</table>\n",
       "<p>2 rows × 22 columns</p>\n",
       "</div>"
      ],
      "text/plain": [
       "                name  bonus  deferral_payments  deferred_income  \\\n",
       "8      BELFER ROBERT  0.000        -102500.000            0.000   \n",
       "11  BHATNAGAR SANJAY  0.000              0.000            0.000   \n",
       "\n",
       "    director_fees  email_address  exercised_stock_options  expenses  \\\n",
       "8        3285.000          0.000                 3285.000     0.000   \n",
       "11     137864.000          0.000              2604490.000     0.000   \n",
       "\n",
       "    from_messages  from_poi_to_this_person        ...          \\\n",
       "8           0.000                    0.000        ...           \n",
       "11         29.000                    0.000        ...           \n",
       "\n",
       "    long_term_incentive      other   poi  restricted_stock  \\\n",
       "8                 0.000      0.000 0.000             0.000   \n",
       "11                0.000 137864.000 0.000      -2604490.000   \n",
       "\n",
       "    restricted_stock_deferred  salary  shared_receipt_with_poi  to_messages  \\\n",
       "8                   44093.000   0.000                    0.000        0.000   \n",
       "11               15456290.000   0.000                  463.000      523.000   \n",
       "\n",
       "    total_payments  total_stock_value  \n",
       "8       102500.000         -44093.000  \n",
       "11    15456290.000              0.000  \n",
       "\n",
       "[2 rows x 22 columns]"
      ]
     },
     "execution_count": 49,
     "metadata": {},
     "output_type": "execute_result"
    }
   ],
   "source": [
    "# dataframe to check total_stock_value\n",
    "df3 = pd.DataFrame()\n",
    "\n",
    "df = df.fillna(0)\n",
    "df3['name'] = df['name']\n",
    "df3['combined'] = (\n",
    "    df['restricted_stock'] +\n",
    "    df['exercised_stock_options'] +\n",
    "    df['restricted_stock_deferred']\n",
    ")\n",
    "df3['total_stock_value'] = df['total_stock_value']\n",
    "df3['equals?'] = (df3['combined'] == df3['total_stock_value'])\n",
    "df3['poi'] = df['poi']\n",
    "print df3.head(5)\n",
    "print np.sum(df3['equals?']), \" out of \", len(df3)\n",
    "print \"Total difference between combined and total_stock_value: \", (np.sum(df3['total_stock_value']) - np.sum(df3['combined']))\n",
    "print \"\\n\"\n",
    "print \"Which data points are different?\"\n",
    "print df3[df3['equals?'] == False]\n",
    "df[df['name'].isin(df3[df3['equals?'] == False]['name'].tolist())]"
   ]
  },
  {
   "cell_type": "markdown",
   "metadata": {},
   "source": [
    "We will update the two persons data below. It looks lkie a typo in the data."
   ]
  },
  {
   "cell_type": "code",
   "execution_count": 50,
   "metadata": {
    "collapsed": true
   },
   "outputs": [],
   "source": [
    "data_dict_updated = data_dict\n",
    "data_dict_updated['BELFER ROBERT']['deferred_income'] = -102500\n",
    "data_dict_updated['BELFER ROBERT']['deferral_payments'] = 'NaN'\n",
    "data_dict_updated['BELFER ROBERT']['expenses'] = 3285\n",
    "data_dict_updated['BELFER ROBERT']['director_fees'] = 102500\n",
    "data_dict_updated['BELFER ROBERT']['total_payments'] = 3285\n",
    "data_dict_updated['BELFER ROBERT']['exercised_stock_options'] = 'NaN'\n",
    "data_dict_updated['BELFER ROBERT']['restricted_stock'] = 44093\n",
    "data_dict_updated['BELFER ROBERT']['restricted_stock_deferred'] = -44093\n",
    "data_dict_updated['BELFER ROBERT']['total_stock_value'] = 'NaN'\n",
    "\n",
    "data_dict_updated['BHATNAGAR SANJAY']['other'] = 'NaN'\n",
    "data_dict_updated['BHATNAGAR SANJAY']['expenses'] = 137864\n",
    "data_dict_updated['BHATNAGAR SANJAY']['director_fees'] = 'NaN'\n",
    "data_dict_updated['BHATNAGAR SANJAY']['total_payments'] = 137864\n",
    "data_dict_updated['BHATNAGAR SANJAY']['exercised_stock_options'] = 15456290\n",
    "data_dict_updated['BHATNAGAR SANJAY']['restricted_stock'] = 2604490\n",
    "data_dict_updated['BHATNAGAR SANJAY']['restricted_stock_deferred'] = -2604490\n",
    "data_dict_updated['BHATNAGAR SANJAY']['total_stock_value'] = 15456290"
   ]
  },
  {
   "cell_type": "markdown",
   "metadata": {},
   "source": [
    "###   Create My Data"
   ]
  },
  {
   "cell_type": "code",
   "execution_count": 51,
   "metadata": {
    "collapsed": true
   },
   "outputs": [],
   "source": [
    "my_dataset = data_dict_updated"
   ]
  },
  {
   "cell_type": "markdown",
   "metadata": {},
   "source": [
    "# 3. Optimize Feature Selection/Engineering\n",
    "\n"
   ]
  },
  {
   "cell_type": "markdown",
   "metadata": {},
   "source": [
    "## 3.1 Create new features\n"
   ]
  },
  {
   "cell_type": "code",
   "execution_count": null,
   "metadata": {
    "collapsed": true
   },
   "outputs": [],
   "source": []
  },
  {
   "cell_type": "markdown",
   "metadata": {},
   "source": [
    "## 3.2 Select Features "
   ]
  },
  {
   "cell_type": "markdown",
   "metadata": {},
   "source": [
    "## 3.3 Scale Features"
   ]
  },
  {
   "cell_type": "markdown",
   "metadata": {},
   "source": [
    "# 4. Pick and Tune an Algorithm\n",
    "\n"
   ]
  },
  {
   "cell_type": "markdown",
   "metadata": {},
   "source": [
    "## 4.1 Different Algorithm \n",
    "\n",
    "- Algorithms\n",
    "- Parameter Tuning"
   ]
  },
  {
   "cell_type": "markdown",
   "metadata": {},
   "source": [
    "## 4.2 Algorithm Output"
   ]
  },
  {
   "cell_type": "markdown",
   "metadata": {},
   "source": [
    "# 5. Validate and Evaluate"
   ]
  },
  {
   "cell_type": "code",
   "execution_count": null,
   "metadata": {
    "collapsed": true
   },
   "outputs": [],
   "source": []
  },
  {
   "cell_type": "code",
   "execution_count": null,
   "metadata": {
    "collapsed": true
   },
   "outputs": [],
   "source": []
  },
  {
   "cell_type": "code",
   "execution_count": null,
   "metadata": {
    "collapsed": true
   },
   "outputs": [],
   "source": []
  },
  {
   "cell_type": "code",
   "execution_count": null,
   "metadata": {
    "collapsed": true
   },
   "outputs": [],
   "source": []
  },
  {
   "cell_type": "code",
   "execution_count": null,
   "metadata": {
    "collapsed": true
   },
   "outputs": [],
   "source": []
  },
  {
   "cell_type": "code",
   "execution_count": null,
   "metadata": {
    "collapsed": true
   },
   "outputs": [],
   "source": []
  },
  {
   "cell_type": "code",
   "execution_count": null,
   "metadata": {
    "collapsed": true
   },
   "outputs": [],
   "source": []
  },
  {
   "cell_type": "code",
   "execution_count": null,
   "metadata": {
    "collapsed": true
   },
   "outputs": [],
   "source": []
  },
  {
   "cell_type": "code",
   "execution_count": null,
   "metadata": {
    "collapsed": true
   },
   "outputs": [],
   "source": [
    "\n",
    "### Task 2: Remove outliers\n",
    "### Task 3: Create new feature(s)\n",
    "### Store to my_dataset for easy export below.\n",
    "my_dataset = data_dict\n",
    "\n",
    "### Extract features and labels from dataset for local testing\n",
    "data = featureFormat(my_dataset, features_list, sort_keys = True)\n",
    "labels, features = targetFeatureSplit(data)\n",
    "\n",
    "### Task 4: Try a varity of classifiers\n",
    "### Please name your classifier clf for easy export below.\n",
    "### Note that if you want to do PCA or other multi-stage operations,\n",
    "### you'll need to use Pipelines. For more info:\n",
    "### http://scikit-learn.org/stable/modules/pipeline.html\n",
    "\n",
    "# Provided to give you a starting point. Try a variety of classifiers.\n",
    "clf = GaussianNB()\n",
    "\n",
    "### Task 5: Tune your classifier to achieve better than .3 precision and recall \n",
    "### using our testing script. Check the tester.py script in the final project\n",
    "### folder for details on the evaluation method, especially the test_classifier\n",
    "### function. Because of the small size of the dataset, the script uses\n",
    "### stratified shuffle split cross validation. For more info: \n",
    "### http://scikit-learn.org/stable/modules/generated/sklearn.cross_validation.StratifiedShuffleSplit.html\n",
    "\n",
    "# Example starting point. Try investigating other evaluation techniques!\n",
    "features_train, features_test, labels_train, labels_test = \\\n",
    "    train_test_split(features, labels, test_size=0.3, random_state=42)"
   ]
  },
  {
   "cell_type": "code",
   "execution_count": null,
   "metadata": {
    "collapsed": true
   },
   "outputs": [],
   "source": []
  },
  {
   "cell_type": "code",
   "execution_count": null,
   "metadata": {
    "collapsed": true
   },
   "outputs": [],
   "source": []
  },
  {
   "cell_type": "code",
   "execution_count": null,
   "metadata": {
    "collapsed": true
   },
   "outputs": [],
   "source": []
  },
  {
   "cell_type": "code",
   "execution_count": null,
   "metadata": {
    "collapsed": true
   },
   "outputs": [],
   "source": []
  },
  {
   "cell_type": "code",
   "execution_count": null,
   "metadata": {
    "collapsed": true
   },
   "outputs": [],
   "source": []
  },
  {
   "cell_type": "code",
   "execution_count": null,
   "metadata": {
    "collapsed": true
   },
   "outputs": [],
   "source": []
  },
  {
   "cell_type": "code",
   "execution_count": null,
   "metadata": {
    "collapsed": true
   },
   "outputs": [],
   "source": []
  },
  {
   "cell_type": "code",
   "execution_count": null,
   "metadata": {
    "collapsed": true
   },
   "outputs": [],
   "source": []
  },
  {
   "cell_type": "code",
   "execution_count": null,
   "metadata": {
    "collapsed": true
   },
   "outputs": [],
   "source": []
  },
  {
   "cell_type": "markdown",
   "metadata": {},
   "source": [
    "# Reference\n",
    "\n",
    "[1. Fraud-detection-enron](https://github.com/yyforyongyu/fraud-detection-enron/blob/master/main/poi_id.ipynb)\n",
    "\n",
    "[2. Udacity](https://classroom.udacity.com/nanodegrees/nd002/parts/0021345409/modules/317428862475461/lessons/3174288624239847/concepts/31803986370923)\n",
    "\n",
    "[3. Identify Enron Data](https://jaycode.github.io/enron/identifying-fraud-from-enron-email.html)"
   ]
  }
 ],
 "metadata": {
  "kernelspec": {
   "display_name": "Python 2",
   "language": "python",
   "name": "python2"
  },
  "language_info": {
   "codemirror_mode": {
    "name": "ipython",
    "version": 2
   },
   "file_extension": ".py",
   "mimetype": "text/x-python",
   "name": "python",
   "nbconvert_exporter": "python",
   "pygments_lexer": "ipython2",
   "version": "2.7.13"
  }
 },
 "nbformat": 4,
 "nbformat_minor": 2
}
